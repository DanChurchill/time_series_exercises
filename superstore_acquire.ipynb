{
 "cells": [
  {
   "cell_type": "code",
   "execution_count": 2,
   "id": "97892c84",
   "metadata": {},
   "outputs": [],
   "source": [
    "import os\n",
    "import pandas as pd\n",
    "import numpy as np\n",
    "import env\n",
    "from sklearn.model_selection import train_test_split\n",
    "\n",
    "def get_connection(db, user=env.user, host=env.host, password=env.password):\n",
    "    '''\n",
    "    function to generate a url for querying the codeup database\n",
    "    accepts a database name (string) and requires an env.py file with \n",
    "    username, host, and password.\n",
    "\n",
    "    Returns an url as a string  \n",
    "    '''\n",
    "    return f'mysql+pymysql://{user}:{password}@{host}/{db}'"
   ]
  },
  {
   "cell_type": "code",
   "execution_count": 11,
   "id": "ec9e093b",
   "metadata": {},
   "outputs": [],
   "source": [
    "def get_superstore():\n",
    "    \"\"\"\n",
    "    Retrieve locally cached data .csv file for the superstore dataset\n",
    "    If no locally cached file is present retrieve the data from the codeup database server\n",
    "    Keyword arguments: none\n",
    "    Returns: DataFrame\n",
    "\n",
    "    \"\"\"\n",
    "    filename = \"superstore.csv\"\n",
    "\n",
    "    # if file is available locally, read it\n",
    "    if os.path.isfile(filename):\n",
    "        return pd.read_csv(filename)\n",
    "    \n",
    "    else:\n",
    "    # if file not available locally, acquire data from SQL database\n",
    "    # and write it as csv locally for future use \n",
    "        df = pd.read_sql('''\n",
    "                            select * from orders\n",
    "                            join customers USING (`Customer ID`)\n",
    "                            join categories USING (`Category ID`)\n",
    "                            join products USING (`Product ID`)\n",
    "                            join regions USING (`Region ID`)\n",
    "                         ''', get_connection('superstore_db'))\n",
    "\n",
    "    # Write that dataframe to disk for later. This cached file will prevent repeated large queries to the database server.\n",
    "    df.to_csv(filename, index=False)\n",
    "    return df"
   ]
  },
  {
   "cell_type": "code",
   "execution_count": 12,
   "id": "61303fcc",
   "metadata": {},
   "outputs": [],
   "source": [
    "df = get_superstore()"
   ]
  },
  {
   "cell_type": "code",
   "execution_count": 24,
   "id": "105e7b79",
   "metadata": {},
   "outputs": [],
   "source": [
    "# lower case column names and add underscores\n",
    "df.columns = df.columns.str.replace(' ', '_')\n",
    "df.columns = df.columns.str.lower()"
   ]
  },
  {
   "cell_type": "code",
   "execution_count": 27,
   "id": "adab87a9",
   "metadata": {},
   "outputs": [],
   "source": [
    "df.order_date = pd.to_datetime(df.order_date)"
   ]
  },
  {
   "cell_type": "code",
   "execution_count": 28,
   "id": "00eea4c0",
   "metadata": {},
   "outputs": [],
   "source": [
    "df.ship_date = pd.to_datetime(df.ship_date)"
   ]
  },
  {
   "cell_type": "code",
   "execution_count": 30,
   "id": "09a273be",
   "metadata": {},
   "outputs": [
    {
     "name": "stdout",
     "output_type": "stream",
     "text": [
      "<class 'pandas.core.frame.DataFrame'>\n",
      "RangeIndex: 1734 entries, 0 to 1733\n",
      "Data columns (total 22 columns):\n",
      " #   Column         Non-Null Count  Dtype         \n",
      "---  ------         --------------  -----         \n",
      " 0   region_id      1734 non-null   int64         \n",
      " 1   product_id     1734 non-null   object        \n",
      " 2   category_id    1734 non-null   int64         \n",
      " 3   customer_id    1734 non-null   object        \n",
      " 4   order_id       1734 non-null   object        \n",
      " 5   order_date     1734 non-null   datetime64[ns]\n",
      " 6   ship_date      1734 non-null   datetime64[ns]\n",
      " 7   ship_mode      1734 non-null   object        \n",
      " 8   segment        1734 non-null   object        \n",
      " 9   country        1734 non-null   object        \n",
      " 10  city           1734 non-null   object        \n",
      " 11  state          1734 non-null   object        \n",
      " 12  postal_code    1734 non-null   float64       \n",
      " 13  sales          1734 non-null   float64       \n",
      " 14  quantity       1734 non-null   float64       \n",
      " 15  discount       1734 non-null   float64       \n",
      " 16  profit         1734 non-null   float64       \n",
      " 17  customer_name  1734 non-null   object        \n",
      " 18  category       1734 non-null   object        \n",
      " 19  sub-category   1734 non-null   object        \n",
      " 20  product_name   1734 non-null   object        \n",
      " 21  region_name    1734 non-null   object        \n",
      "dtypes: datetime64[ns](2), float64(5), int64(2), object(13)\n",
      "memory usage: 298.2+ KB\n"
     ]
    }
   ],
   "source": [
    "df.info()"
   ]
  },
  {
   "cell_type": "code",
   "execution_count": null,
   "id": "5ff47369",
   "metadata": {},
   "outputs": [],
   "source": [
    "def prepare_superstore(df):\n",
    "    # lower case column names and add underscores\n",
    "    df.columns = df.columns.str.replace(' ', '_')\n",
    "    df.columns = df.columns.str.lower()"
   ]
  }
 ],
 "metadata": {
  "kernelspec": {
   "display_name": "Python 3 (ipykernel)",
   "language": "python",
   "name": "python3"
  },
  "language_info": {
   "codemirror_mode": {
    "name": "ipython",
    "version": 3
   },
   "file_extension": ".py",
   "mimetype": "text/x-python",
   "name": "python",
   "nbconvert_exporter": "python",
   "pygments_lexer": "ipython3",
   "version": "3.9.12"
  }
 },
 "nbformat": 4,
 "nbformat_minor": 5
}
